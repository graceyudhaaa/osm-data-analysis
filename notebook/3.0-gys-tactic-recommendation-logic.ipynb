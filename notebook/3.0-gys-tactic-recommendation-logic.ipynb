{
 "cells": [
  {
   "cell_type": "code",
   "execution_count": 1,
   "metadata": {},
   "outputs": [],
   "source": [
    "import json"
   ]
  },
  {
   "cell_type": "code",
   "execution_count": 2,
   "metadata": {},
   "outputs": [],
   "source": [
    "# save to json function\n",
    "def to_json(path, d, indent=2):\n",
    "    with open(path, \"w\") as outfile:\n",
    "        outfile.write(json.dumps(d, indent=indent))\n",
    "\n",
    "def read_json(path):\n",
    "    with open(path) as json_file:\n",
    "        return json.load(json_file)"
   ]
  },
  {
   "cell_type": "code",
   "execution_count": 10,
   "metadata": {},
   "outputs": [],
   "source": [
    "formation_dict = read_json('../data/json/formation_dict.json')\n",
    "form_sop_pair_dict = read_json('../data/json/form_sop_pair_dict.json')\n",
    "form_v_sop_dict = read_json('../data/json/form_v_sop_dict.json')\n",
    "sop_v_form_dict = read_json('../data/json/sop_v_form_dict.json')\n",
    "style_of_play_dict = read_json('../data/json/style_of_play_dict.json')"
   ]
  },
  {
   "cell_type": "code",
   "execution_count": 13,
   "metadata": {},
   "outputs": [
    {
     "data": {
      "text/plain": [
       "{'shoot on sight': {'weak': ['4-2-3-1', '3-5-2', '6-3-1 b'],\n",
       "  'strong': ['4-4-2 b',\n",
       "   '4-3-3 b',\n",
       "   '4-3-3 a',\n",
       "   '4-2-3-1',\n",
       "   '6-3-1 b',\n",
       "   '3-5-2',\n",
       "   '4-5-1',\n",
       "   '3-3-4 b'],\n",
       "  'equal': ['4-4-2 b', '4-3-3 b']},\n",
       " 'passing game': {'weak': ['6-3-1 b', '4-5-1'],\n",
       "  'strong': ['4-2-3-1', '4-3-3 b', '4-3-3 a', '4-5-1'],\n",
       "  'equal': ['6-3-1 b']},\n",
       " 'wing play': {'weak': ['4-3-3 b'],\n",
       "  'strong': ['4-3-3 b', '4-3-3 a', '4-4-2 b'],\n",
       "  'equal': []},\n",
       " 'long ball': {'weak': ['4-3-3 b'],\n",
       "  'strong': ['4-3-3 b',\n",
       "   '3-3-4 a',\n",
       "   '4-4-2 b',\n",
       "   '3-3-4 b',\n",
       "   '4-2-3-1',\n",
       "   '4-3-3 a',\n",
       "   '4-5-1'],\n",
       "  'equal': []},\n",
       " 'counter-attack': {'weak': [], 'strong': ['4-5-1', '4-2-3-1'], 'equal': []}}"
      ]
     },
     "execution_count": 13,
     "metadata": {},
     "output_type": "execute_result"
    }
   ],
   "source": [
    "form_v_sop_dict"
   ]
  },
  {
   "cell_type": "code",
   "execution_count": 11,
   "metadata": {},
   "outputs": [
    {
     "data": {
      "text/plain": [
       "{'4-3-3 b': {'weak': ['4-2-3-1'],\n",
       "  'strong': ['4-3-3 a', '4-4-2 b'],\n",
       "  'equal': []},\n",
       " '4-2-3-1': {'weak': ['6-3-1 b'],\n",
       "  'strong': ['4-2-3-1', '4-5-1', '4-4-2 b', '6-3-1 b'],\n",
       "  'equal': ['6-3-1 b']},\n",
       " '4-4-2 b': {'weak': ['4-2-3-1', '4-3-3 b'],\n",
       "  'strong': ['4-3-3 b', '4-3-3 a'],\n",
       "  'equal': ['4-3-3 b']},\n",
       " '3-3-4 a': {'weak': ['4-3-3 b'],\n",
       "  'strong': ['4-3-3 b', '3-3-4 a', '3-3-4 b', '4-3-3 a'],\n",
       "  'equal': []},\n",
       " '3-3-2-2': {'weak': [], 'strong': ['4-4-2 b'], 'equal': ['4-4-2 b']},\n",
       " '3-4-3 a': {'weak': ['3-5-2'], 'strong': ['3-5-2'], 'equal': []},\n",
       " '4-3-3 a': {'weak': ['4-5-1'], 'strong': ['4-3-3 b'], 'equal': []},\n",
       " '4-5-1': {'weak': [],\n",
       "  'strong': ['4-3-3 b', '4-3-3 a', '4-2-3-1'],\n",
       "  'equal': []},\n",
       " '5-3-1-1': {'weak': [], 'strong': ['4-4-2 b'], 'equal': []},\n",
       " '5-2-3 a': {'weak': [], 'strong': ['4-4-2 b'], 'equal': []},\n",
       " '5-4-1 a': {'weak': [], 'strong': ['4-4-2 b'], 'equal': []},\n",
       " '5-3-2': {'weak': [], 'strong': ['4-3-3 a'], 'equal': []}}"
      ]
     },
     "execution_count": 11,
     "metadata": {},
     "output_type": "execute_result"
    }
   ],
   "source": [
    "formation_dict"
   ]
  },
  {
   "cell_type": "code",
   "execution_count": 14,
   "metadata": {},
   "outputs": [
    {
     "data": {
      "text/plain": [
       "['6-3-1 b']"
      ]
     },
     "execution_count": 14,
     "metadata": {},
     "output_type": "execute_result"
    }
   ],
   "source": [
    "formation_dict['4-2-3-1']['weak'] "
   ]
  },
  {
   "cell_type": "code",
   "execution_count": 15,
   "metadata": {},
   "outputs": [
    {
     "data": {
      "text/plain": [
       "['6-3-1 b', '4-5-1']"
      ]
     },
     "execution_count": 15,
     "metadata": {},
     "output_type": "execute_result"
    }
   ],
   "source": [
    "form_v_sop_dict['passing game']['weak']"
   ]
  },
  {
   "cell_type": "code",
   "execution_count": 16,
   "metadata": {},
   "outputs": [
    {
     "data": {
      "text/plain": [
       "{'6-3-1 b'}"
      ]
     },
     "execution_count": 16,
     "metadata": {},
     "output_type": "execute_result"
    }
   ],
   "source": [
    "set(formation_dict['4-2-3-1']['weak']).intersection(set(form_v_sop_dict['passing game']['weak']))"
   ]
  },
  {
   "cell_type": "code",
   "execution_count": 17,
   "metadata": {},
   "outputs": [
    {
     "data": {
      "text/plain": [
       "{'4-3-3 b': {'weak': ['shoot on sight'],\n",
       "  'strong': ['wing play', 'shoot on sight', 'passing game'],\n",
       "  'equal': []},\n",
       " '4-2-3-1': {'weak': ['counter-attack'],\n",
       "  'strong': ['shoot on sight', 'counter-attack', 'wing play'],\n",
       "  'equal': ['counter-attack']},\n",
       " '4-4-2 b': {'weak': ['shoot on sight', 'wing play'],\n",
       "  'strong': ['wing play'],\n",
       "  'equal': ['wing play']},\n",
       " '3-3-4 a': {'weak': ['wing play'], 'strong': ['wing play'], 'equal': []},\n",
       " '3-3-2-2': {'weak': [],\n",
       "  'strong': ['passing game', 'shoot on sight'],\n",
       "  'equal': ['passing game']},\n",
       " '3-4-3 a': {'weak': ['shoot on sight'],\n",
       "  'strong': ['shoot on sight'],\n",
       "  'equal': []},\n",
       " '4-3-3 a': {'weak': ['shoot on sight'],\n",
       "  'strong': ['wing play', 'shoot on sight', 'passing game'],\n",
       "  'equal': []},\n",
       " '4-5-1': {'weak': [],\n",
       "  'strong': ['shoot on sight', 'wing play', 'passing game'],\n",
       "  'equal': []},\n",
       " '5-3-1-1': {'weak': [], 'strong': ['passing game'], 'equal': []},\n",
       " '5-2-3 a': {'weak': [], 'strong': ['passing game'], 'equal': []},\n",
       " '5-4-1 a': {'weak': [], 'strong': ['passing game'], 'equal': []},\n",
       " '5-3-2': {'weak': [], 'strong': ['passing game'], 'equal': []}}"
      ]
     },
     "execution_count": 17,
     "metadata": {},
     "output_type": "execute_result"
    }
   ],
   "source": [
    "sop_v_form_dict"
   ]
  },
  {
   "cell_type": "code",
   "execution_count": 18,
   "metadata": {},
   "outputs": [
    {
     "data": {
      "text/plain": [
       "{'4-2-3-1': {'weak': ['shoot on sight'],\n",
       "  'strong': ['shoot on sight', 'wing play'],\n",
       "  'equal': []},\n",
       " '6-3-1 b': {'weak': ['counter-attack'],\n",
       "  'strong': ['shoot on sight', 'counter-attack'],\n",
       "  'equal': ['counter-attack']},\n",
       " '4-3-3 b': {'weak': ['wing play'],\n",
       "  'strong': ['wing play', 'shoot on sight', 'passing game'],\n",
       "  'equal': ['wing play']},\n",
       " '4-4-2 b': {'weak': [],\n",
       "  'strong': ['passing game', 'shoot on sight'],\n",
       "  'equal': ['passing game']},\n",
       " '3-5-2': {'weak': ['shoot on sight'],\n",
       "  'strong': ['shoot on sight'],\n",
       "  'equal': []},\n",
       " '3-3-4 a': {'weak': [], 'strong': ['wing play'], 'equal': []},\n",
       " '4-5-1': {'weak': ['shoot on sight'],\n",
       "  'strong': ['shoot on sight', 'wing play'],\n",
       "  'equal': []},\n",
       " '4-3-3 a': {'weak': [],\n",
       "  'strong': ['wing play', 'shoot on sight', 'passing game'],\n",
       "  'equal': []},\n",
       " '3-3-4 b': {'weak': [], 'strong': ['wing play'], 'equal': []}}"
      ]
     },
     "execution_count": 18,
     "metadata": {},
     "output_type": "execute_result"
    }
   ],
   "source": [
    "form_sop_pair_dict"
   ]
  },
  {
   "cell_type": "code",
   "execution_count": 19,
   "metadata": {},
   "outputs": [
    {
     "data": {
      "text/plain": [
       "{'counter-attack'}"
      ]
     },
     "execution_count": 19,
     "metadata": {},
     "output_type": "execute_result"
    }
   ],
   "source": [
    "set(sop_v_form_dict['4-2-3-1']['weak']).intersection(set(form_sop_pair_dict['6-3-1 b']['weak']))"
   ]
  },
  {
   "cell_type": "code",
   "execution_count": null,
   "metadata": {},
   "outputs": [],
   "source": []
  }
 ],
 "metadata": {
  "kernelspec": {
   "display_name": ".venv",
   "language": "python",
   "name": "python3"
  },
  "language_info": {
   "codemirror_mode": {
    "name": "ipython",
    "version": 3
   },
   "file_extension": ".py",
   "mimetype": "text/x-python",
   "name": "python",
   "nbconvert_exporter": "python",
   "pygments_lexer": "ipython3",
   "version": "3.8.10"
  },
  "orig_nbformat": 4
 },
 "nbformat": 4,
 "nbformat_minor": 2
}
